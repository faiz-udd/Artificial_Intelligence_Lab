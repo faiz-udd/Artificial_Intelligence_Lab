{
 "cells": [
  {
   "cell_type": "code",
   "execution_count": 7,
   "id": "d1d24661",
   "metadata": {},
   "outputs": [],
   "source": [
    "import numpy as np\n",
    "from sklearn.linear_model import LinearRegression"
   ]
  },
  {
   "cell_type": "code",
   "execution_count": 8,
   "id": "521d6429",
   "metadata": {},
   "outputs": [
    {
     "data": {
      "text/plain": [
       "array([[1],\n",
       "       [2],\n",
       "       [3],\n",
       "       [4],\n",
       "       [5],\n",
       "       [6],\n",
       "       [7]])"
      ]
     },
     "execution_count": 8,
     "metadata": {},
     "output_type": "execute_result"
    }
   ],
   "source": [
    "x = np.array([5, 10, 15, 20, 25, 30, 35]).reshape((-1, 1))\n",
    "y = np.array([40, 70, 110, 140, 180, 210, 250])\n",
    "\n",
    "\n",
    "y.ndim\n",
    "x.ndim\n",
    "\n",
    "y\n",
    "x"
   ]
  },
  {
   "cell_type": "code",
   "execution_count": null,
   "id": "c1de828e",
   "metadata": {},
   "outputs": [],
   "source": [
    "\n"
   ]
  },
  {
   "cell_type": "code",
   "execution_count": 9,
   "id": "1729936f",
   "metadata": {},
   "outputs": [],
   "source": [
    "model = LinearRegression()"
   ]
  },
  {
   "cell_type": "code",
   "execution_count": 10,
   "id": "4e049794",
   "metadata": {},
   "outputs": [],
   "source": [
    "model = LinearRegression().fit(x, y)"
   ]
  },
  {
   "cell_type": "code",
   "execution_count": 11,
   "id": "fc513f93",
   "metadata": {},
   "outputs": [
    {
     "name": "stdout",
     "output_type": "stream",
     "text": [
      "coefficient of determination: 0.2193392325504464\n"
     ]
    }
   ],
   "source": [
    "r_sq = model.score(x, y)\n",
    "print(f\"coefficient of determination: {r_sq}\")"
   ]
  },
  {
   "cell_type": "code",
   "execution_count": 12,
   "id": "40c8cb5b",
   "metadata": {},
   "outputs": [
    {
     "name": "stdout",
     "output_type": "stream",
     "text": [
      "intercept: 5.142857142857142\n",
      "slope: [-0.36785714]\n"
     ]
    }
   ],
   "source": [
    "print(f\"intercept: {model.intercept_}\")\n",
    "print(f\"slope: {model.coef_}\")"
   ]
  },
  {
   "cell_type": "code",
   "execution_count": 13,
   "id": "f582b656",
   "metadata": {},
   "outputs": [
    {
     "name": "stdout",
     "output_type": "stream",
     "text": [
      "predicted response:\n",
      "[4.775      4.40714286 4.03928571 3.67142857 3.30357143 2.93571429\n",
      " 2.56785714]\n"
     ]
    }
   ],
   "source": [
    "y_pred = model.predict(x)\n",
    "print(f\"predicted response:\\n{y_pred}\")"
   ]
  },
  {
   "cell_type": "code",
   "execution_count": 14,
   "id": "7ea983a8",
   "metadata": {},
   "outputs": [
    {
     "data": {
      "text/plain": [
       "array([-13.25])"
      ]
     },
     "execution_count": 14,
     "metadata": {},
     "output_type": "execute_result"
    }
   ],
   "source": [
    "y1 = model.intercept_ + model.coef_ * 50\n",
    "y1\n"
   ]
  },
  {
   "cell_type": "code",
   "execution_count": null,
   "id": "e3f2e904",
   "metadata": {},
   "outputs": [],
   "source": [
    "import matplotlib.pyplot as plt\n",
    "\n",
    "# Data\n",
    "years = [2018, 2019, 2020, 2021, 2022, 2023, 2024, 2025, 2026]\n",
    "gdp = [5.6, 5.2, 2.3, 1.8, 5.5, 2.2, 3.1, None, None]  # None for missing GDP values\n",
    "\n",
    "# Create the plot\n",
    "plt.figure(figsize=(10, 5))\n",
    "plt.plot(years, gdp, marker='o', linestyle='-', color='b', label='GDP')\n",
    "\n",
    "# Highlight missing data points\n",
    "for i in range(len(gdp)):\n",
    "    if gdp[i] is None:\n",
    "        plt.plot(years[i], 0, marker='x', color='r')  # Mark missing points with 'x'\n",
    "\n",
    "# Add title and labels\n",
    "plt.title('GDP Over Years')\n",
    "plt.xlabel('Years')\n",
    "plt.ylabel('GDP Growth (%)')\n",
    "plt.xticks(years)\n",
    "plt.legend()\n",
    "plt.grid(True)\n",
    "\n",
    "# Display the plot\n",
    "plt.show()\n"
   ]
  },
  {
   "cell_type": "code",
   "execution_count": 19,
   "id": "6bf5a32c",
   "metadata": {},
   "outputs": [
    {
     "data": {
      "image/png": "[encoded data removed]",
      "text/plain": [
       "<Figure size 1000x500 with 1 Axes>"
      ]
     },
     "metadata": {},
     "output_type": "display_data"
    },
    {
     "name": "stdout",
     "output_type": "stream",
     "text": [
      "Predicted GDP for 2025: 2.20\n",
      "Predicted GDP for 2026: 1.83\n"
     ]
    }
   ],
   "source": [
    "import numpy as np\n",
    "import matplotlib.pyplot as plt\n",
    "from sklearn.linear_model import LinearRegression\n",
    "\n",
    "# Data\n",
    "years = np.array([1, 2, 3, 4, 5, 6,7 ]).reshape(-1, 1)\n",
    "gdp = np.array([5.6, 5.2, 2.3, 1.8, 5.5, 2.2, 3.1])\n",
    "\n",
    "# Create and fit the model\n",
    "model = LinearRegression()\n",
    "model.fit(years, gdp)\n",
    "\n",
    "# Predict GDP for 2025 and 2026\n",
    "future_years = np.array([8, 9]).reshape(-1, 1)\n",
    "predicted_gdp = model.predict(future_years)\n",
    "\n",
    "# Combine existing and predicted data for plotting\n",
    "all_years = np.append(years, future_years).reshape(-1, 1)\n",
    "all_gdp = np.append(gdp, predicted_gdp)\n",
    "\n",
    "# Create the plot\n",
    "plt.figure(figsize=(10, 5))\n",
    "plt.plot(all_years, all_gdp, marker='o', linestyle='-', color='b', label='GDP')\n",
    "\n",
    "# Highlight predicted data points\n",
    "plt.plot(future_years, predicted_gdp, marker='x', color='r', linestyle='None', label='Predicted GDP')\n",
    "\n",
    "# Add title and labels\n",
    "plt.title('GDP Over Years with Predictions')\n",
    "plt.xlabel('Years')\n",
    "plt.ylabel('GDP Growth (%)')\n",
    "plt.xticks(np.arange(2018, 2027, 1))\n",
    "plt.legend()\n",
    "plt.grid(True)\n",
    "\n",
    "# Display the plot\n",
    "plt.show()\n",
    "\n",
    "# Print the predicted values for 2025 and 2026\n",
    "print(f\"Predicted GDP for 2025: {predicted_gdp[0]:.2f}\")\n",
    "print(f\"Predicted GDP for 2026: {predicted_gdp[1]:.2f}\")\n"
   ]
  }
 ],
 "metadata": {
  "kernelspec": {
   "display_name": "Python 3",
   "language": "python",
   "name": "python3"
  },
  "language_info": {
   "codemirror_mode": {
    "name": "ipython",
    "version": 3
   },
   "file_extension": ".py",
   "mimetype": "text/x-python",
   "name": "python",
   "nbconvert_exporter": "python",
   "pygments_lexer": "ipython3",
   "version": "3.12.3"
  }
 },
 "nbformat": 4,
 "nbformat_minor": 5
}
